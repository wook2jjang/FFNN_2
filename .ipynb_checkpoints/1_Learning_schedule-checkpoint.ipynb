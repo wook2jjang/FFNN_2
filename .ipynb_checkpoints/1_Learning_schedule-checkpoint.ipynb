{
 "cells": [
  {
   "cell_type": "code",
   "execution_count": 1,
   "id": "d974073d",
   "metadata": {},
   "outputs": [],
   "source": [
    "import torch\n",
    "import torch.nn as nn\n",
    "import torch.nn.functional as F\n",
    "import torch.optim as optim\n",
    "from torchvision import datasets, transforms\n",
    "from torch.utils.data import DataLoader\n",
    "\n",
    "import os, time\n",
    "import numpy as np\n",
    "import matplotlib.pyplot as plt\n",
    "%matplotlib inline"
   ]
  },
  {
   "cell_type": "markdown",
   "id": "7e5815e8",
   "metadata": {},
   "source": [
    "- <span style = 'font-size:1.2em;line-height:1.5em'>이번 실습 자료에서는 Optimizer를 다르게 설정했을 때, 어떤 패턴으로 수렴이 되는지 봅시다.</span>"
   ]
  },
  {
   "cell_type": "markdown",
   "id": "658a2641",
   "metadata": {},
   "source": [
    "## 1. 모델을 클래스 형식으로 선언합니다."
   ]
  },
  {
   "cell_type": "code",
   "execution_count": 2,
   "id": "0b10ff65",
   "metadata": {},
   "outputs": [],
   "source": [
    "class MyNet(nn.Module):\n",
    "    def __init__(self, dim_in, dim_h1, dim_h2, dim_out):\n",
    "        super(MyNet, self).__init__()\n",
    "        self.fc1 = nn.Linear(dim_in,dim_h1)\n",
    "        self.fc2 = nn.Linear(dim_h1,dim_h2)\n",
    "        self.fc3 = nn.Linear(dim_h2,dim_out)\n",
    "        \n",
    "    def forward(self, x):\n",
    "        h1 = self.fc1(x)\n",
    "        h1 = F.relu(h1)\n",
    "        h2 = self.fc2(h1)\n",
    "        h2 = F.relu(h2)\n",
    "        out = self.fc3(h2)\n",
    "        # F.cross_entropy = F.log_softmax + F.nll_loss\n",
    "        # 뒤에서 cross_entropy를 사용하려면, 여기서 softmax 빼야됩니다.\n",
    "        # 이번엔 모델에서 softmax를 빼고, 뒤의 loss에서 cross_entropy loss를 활용해봅시다.\n",
    "        return out"
   ]
  },
  {
   "cell_type": "markdown",
   "id": "13d70e9d",
   "metadata": {},
   "source": [
    "## 2. train() 함수"
   ]
  },
  {
   "cell_type": "code",
   "execution_count": 3,
   "id": "263e3c53",
   "metadata": {},
   "outputs": [],
   "source": [
    "def train(model, data_loader, optimizer, criterion, device):\n",
    "    model.train() # 모델을 학습모드로!\n",
    "    trn_loss = 0\n",
    "    for i, (x, y) in enumerate(data_loader):\n",
    "        # Step 1. mini-batch에서 x,y 데이터를 얻고, 원하는 device에 위치시키기\n",
    "        x = x.view(-1, 784).to(device) # x.shape: [batch_size,28,28] -> [batch_size, 784]\n",
    "        y = y.to(device)\n",
    "        \n",
    "        # Step 2. gradient 초기화\n",
    "        optimizer.zero_grad()\n",
    "        \n",
    "        # Step 3. Forward Propagation\n",
    "        y_pred_prob = model(x)\n",
    "        \n",
    "        # Step 4. Loss Calculation\n",
    "        loss = criterion(y_pred_prob, y)\n",
    "        \n",
    "        # Step 5. Gradient Calculation (Backpropagation)\n",
    "        loss.backward()\n",
    "        \n",
    "        # Step 6. Update Parameter (by Gradient Descent)\n",
    "        optimizer.step()\n",
    "        \n",
    "        # Step 7. trn_loss 변수에 mini-batch loss를 누적해서 합산\n",
    "        trn_loss += loss.item()\n",
    "        \n",
    "    # Step 8. 데이터 한 개당 평균 train loss\n",
    "    avg_trn_loss = trn_loss / len(data_loader.dataset)\n",
    "    return avg_trn_loss"
   ]
  },
  {
   "cell_type": "markdown",
   "id": "8dcdaf43",
   "metadata": {},
   "source": [
    "## 3. evaluate() 함수"
   ]
  },
  {
   "cell_type": "code",
   "execution_count": 4,
   "id": "bb836a4d",
   "metadata": {},
   "outputs": [],
   "source": [
    "def evaluate(model, data_loader, optimizer, criterion, device):\n",
    "    model.eval() # 모델을 평가모드로!\n",
    "    eval_loss = 0\n",
    "    \n",
    "    results_pred = []\n",
    "    results_real = []\n",
    "    with torch.no_grad(): # evaluate()함수에는 단순 forward propagation만 할 뿐, gradient 계산 필요 X.\n",
    "        for i, (x, y) in enumerate(data_loader):\n",
    "            # Step 1. mini-batch에서 x,y 데이터를 얻고, 원하는 device에 위치시키기\n",
    "            x = x.view(-1,784).to(device) # x.shape: [batch_size,28,28] -> [batch_size, 784]\n",
    "            y = y.to(device)\n",
    "\n",
    "            # Step 2. Forward Propagation\n",
    "            y_pred_prob = model(x)\n",
    "\n",
    "            # Step 3. Loss Calculation\n",
    "            loss = criterion(y_pred_prob, y)\n",
    "            \n",
    "            # Step 4. Predict label\n",
    "            y_pred_label = torch.argmax(y_pred_prob, dim=1)\n",
    "            \n",
    "            # Step 5. Save real and predicte label\n",
    "            results_pred.extend(y_pred_label.detach().cpu().numpy())\n",
    "            results_real.extend(y.detach().cpu().numpy())\n",
    "            \n",
    "            # Step 6. eval_loss변수에 mini-batch loss를 누적해서 합산\n",
    "            eval_loss += loss.item()\n",
    "\n",
    "    # Step 7. 데이터 한 개당 평균 eval_loss와 accuracy구하기\n",
    "    avg_eval_loss = eval_loss / len(data_loader.dataset)\n",
    "    results_pred = np.array(results_pred)\n",
    "    results_real = np.array(results_real)\n",
    "    accuracy = np.sum(results_pred == results_real) / len(results_real)\n",
    "    \n",
    "    return avg_eval_loss, accuracy"
   ]
  },
  {
   "cell_type": "markdown",
   "id": "65a814fa",
   "metadata": {},
   "source": [
    "## 4. 매 Epoch에 드는 시간 측정"
   ]
  },
  {
   "cell_type": "code",
   "execution_count": 5,
   "id": "46bf149c",
   "metadata": {},
   "outputs": [],
   "source": [
    "def epoch_time(start_time, end_time):\n",
    "    elapsed_time = end_time - start_time\n",
    "    elapsed_mins = int(elapsed_time / 60)\n",
    "    elapsed_secs = int(elapsed_time - (elapsed_mins * 60))\n",
    "    return elapsed_mins, elapsed_secs"
   ]
  },
  {
   "cell_type": "markdown",
   "id": "da7bfc79",
   "metadata": {},
   "source": [
    "## 5. 학습하기"
   ]
  },
  {
   "cell_type": "markdown",
   "id": "9b49af93",
   "metadata": {},
   "source": [
    "- <span style = 'font-size:1.2em;line-height:1.5em'>Dataset과 Mini-batch를 자동으로 생성할 DataLoader준비하기</span>"
   ]
  },
  {
   "cell_type": "code",
   "execution_count": 6,
   "id": "ec712f47",
   "metadata": {},
   "outputs": [],
   "source": [
    "# torchvision에서도 MNIST데이터를 제공합니다. \n",
    "# 이 데이터를 다운 받을 디렉토리(data_path) 존재 여부를 확인하고 존재하지 않으면 생성 \n",
    "data_path = 'data'\n",
    "if not os.path.exists(data_path):\n",
    "    os.makedirs(data_path)\n",
    "    \n",
    "# data 변환 방법 선언 (data transform method)\n",
    "# 아래 예시: numpy형태의 데이터를 받으면 걔를 tensor로 변환해줘!\n",
    "transform = transforms.Compose([transforms.ToTensor()])\n",
    "\n",
    "# dataset을 생성 (torchvision에서 제공하는 데이터를 다운 받고, 위의 방법대로 변환)\n",
    "trn_dset = datasets.MNIST(root=data_path, train=True, transform=transform, download=True)\n",
    "tst_dset = datasets.MNIST(root=data_path, train=False, transform=transform, download=True)"
   ]
  },
  {
   "cell_type": "markdown",
   "id": "e9d8d919",
   "metadata": {},
   "source": [
    "- <span style = 'font-size:1.2em;line-height:1.5em'>연산을 수행할 device를 설정하기</span>"
   ]
  },
  {
   "cell_type": "code",
   "execution_count": 7,
   "id": "0a53b136",
   "metadata": {},
   "outputs": [],
   "source": [
    "device = torch.device('cuda' if torch.cuda.is_available() else 'cpu')"
   ]
  },
  {
   "cell_type": "markdown",
   "id": "4347714d",
   "metadata": {},
   "source": [
    "- <span style = 'font-size:1.2em;line-height:1.5em'>모델에 대한 객체 생성하기</span>"
   ]
  },
  {
   "cell_type": "code",
   "execution_count": 8,
   "id": "777afa06",
   "metadata": {},
   "outputs": [],
   "source": [
    "# stochastic gradient descent 방식\n",
    "model_sgd = MyNet(dim_in=784, dim_h1=50, dim_h2=100, dim_out=10)\n",
    "model_sgd = model_sgd.to(device)\n",
    "\n",
    "# adagrad 방식\n",
    "model_ada = MyNet(dim_in=784, dim_h1=50, dim_h2=100, dim_out=10)\n",
    "model_ada = model_ada.to(device)\n",
    "\n",
    "# RMSProp 방식\n",
    "model_rms = MyNet(dim_in=784, dim_h1=50, dim_h2=100, dim_out=10)\n",
    "model_rms = model_rms.to(device)\n",
    "\n",
    "# adam 방식\n",
    "model_adam = MyNet(dim_in=784, dim_h1=50, dim_h2=100, dim_out=10)\n",
    "model_adam = model_adam.to(device)"
   ]
  },
  {
   "cell_type": "markdown",
   "id": "98f90983",
   "metadata": {},
   "source": [
    "- <span style = 'font-size:1.2em;line-height:1.5em'>loss function 정의하기</span>\n",
    "    - <span style = 'font-size:1.1em;line-height:1.5em'>예전 실습 파일에는 손실 함수인 F.nll_loss()가 train(), evaluate() 함수 안에서 바로 사용되었음</span>\n",
    "    - <span style = 'font-size:1.1em;line-height:1.5em'>이번 손실 함수는 train(), evaluate() 함수 밖에서 정의하고 안에서는 정의한 함수를 사용하는 방식으로</span>\n",
    "    - <span style = 'font-size:1.1em;line-height:1.5em'>어떻게 사용해도 상관없으니, 편한대로 사용하세요.</span>"
   ]
  },
  {
   "cell_type": "code",
   "execution_count": 9,
   "id": "e952f29b",
   "metadata": {},
   "outputs": [],
   "source": [
    "loss_func = nn.CrossEntropyLoss(reduction='sum')"
   ]
  },
  {
   "cell_type": "markdown",
   "id": "7a273dbd",
   "metadata": {},
   "source": [
    "- <span style = 'font-size:1.2em;line-height:1.5em'>학습한 모델을 저장할 directory 생성하기</span>"
   ]
  },
  {
   "cell_type": "code",
   "execution_count": 10,
   "id": "aac3ab73",
   "metadata": {},
   "outputs": [],
   "source": [
    "save_dir = 'models'\n",
    "if not os.path.exists(save_dir):\n",
    "    os.makedirs(save_dir)"
   ]
  },
  {
   "cell_type": "markdown",
   "id": "ef2488cb",
   "metadata": {},
   "source": [
    "- <span style = 'font-size:1.2em;line-height:1.5em'>필요한 hyperparameter값 설정하기</span>"
   ]
  },
  {
   "cell_type": "code",
   "execution_count": 11,
   "id": "ac13e2b9",
   "metadata": {},
   "outputs": [],
   "source": [
    "N_EPOCHS = 10\n",
    "LR = 2e-4\n",
    "BATCH_SIZE = 2**9"
   ]
  },
  {
   "cell_type": "markdown",
   "id": "5b391e05",
   "metadata": {},
   "source": [
    "- <span style = 'font-size:1.2em;line-height:1.5em'>Mini-batch를 자동으로 생성할 DataLoader준비하기</span>"
   ]
  },
  {
   "cell_type": "code",
   "execution_count": 12,
   "id": "77e45c2e",
   "metadata": {},
   "outputs": [],
   "source": [
    "trn_loader = DataLoader(trn_dset, batch_size = BATCH_SIZE, shuffle=True, drop_last=False)\n",
    "tst_loader = DataLoader(tst_dset, batch_size = BATCH_SIZE, shuffle=False, drop_last=False)"
   ]
  },
  {
   "cell_type": "markdown",
   "id": "f84d6347",
   "metadata": {},
   "source": [
    "- <span style = 'font-size:1.2em;line-height:1.5em'>optimizer 생성하기</span>"
   ]
  },
  {
   "cell_type": "code",
   "execution_count": 13,
   "id": "5067d7de",
   "metadata": {},
   "outputs": [],
   "source": [
    "opt_sgd = optim.SGD(model_sgd.parameters(), lr = LR)\n",
    "opt_ada = optim.Adagrad(model_ada.parameters(), lr = LR)\n",
    "opt_rms = optim.RMSprop(model_rms.parameters(), lr = LR)\n",
    "opt_adam = optim.Adam(model_adam.parameters(), lr = LR)"
   ]
  },
  {
   "cell_type": "markdown",
   "id": "31eaecbd",
   "metadata": {},
   "source": [
    "- <span style = 'font-size:1.2em;line-height:1.5em'>trn_data에 대해서 train()함수를, tst_data에 대해서 evaluate()함수를 반복적으로 호출하면서 모델을 학습</span>\n",
    "    - <span style = 'font-size:1.2em;line-height:1.5em'>매 epoch마다 학습이 마무리되면, 모델 평가를 진행한다</span>"
   ]
  },
  {
   "cell_type": "code",
   "execution_count": 14,
   "id": "92656f92",
   "metadata": {},
   "outputs": [],
   "source": [
    "param_dict = {\n",
    "    'SGD': {'model': model_sgd, 'optimizer': opt_sgd},\n",
    "    'Adagrad': {'model': model_ada, 'optimizer': opt_ada},\n",
    "    'RMSProp': {'model': model_rms, 'optimizer': opt_rms},\n",
    "    'Adam': {'model': model_adam, 'optimizer': opt_adam},\n",
    "}"
   ]
  },
  {
   "cell_type": "code",
   "execution_count": 15,
   "id": "533740db",
   "metadata": {},
   "outputs": [
    {
     "name": "stdout",
     "output_type": "stream",
     "text": [
      "optimizer: SGD\n",
      "Epoch: 01 | Time: 0m 12s\n",
      "\tTrain Loss: 1.569 | Test Loss: 0.581 | Test Acc: 85.130% \n",
      "Epoch: 02 | Time: 0m 25s\n",
      "\tTrain Loss: 0.468 | Test Loss: 0.380 | Test Acc: 88.650% \n",
      "Epoch: 03 | Time: 0m 37s\n",
      "\tTrain Loss: 0.365 | Test Loss: 0.325 | Test Acc: 90.390% \n",
      "Epoch: 04 | Time: 0m 50s\n",
      "\tTrain Loss: 0.325 | Test Loss: 0.292 | Test Acc: 91.460% \n",
      "Epoch: 05 | Time: 1m 2s\n",
      "\tTrain Loss: 0.296 | Test Loss: 0.274 | Test Acc: 91.900% \n",
      "Epoch: 06 | Time: 1m 15s\n",
      "\tTrain Loss: 0.274 | Test Loss: 0.254 | Test Acc: 92.710% \n",
      "Epoch: 07 | Time: 1m 28s\n",
      "\tTrain Loss: 0.257 | Test Loss: 0.240 | Test Acc: 93.010% \n",
      "Epoch: 08 | Time: 1m 40s\n",
      "\tTrain Loss: 0.240 | Test Loss: 0.227 | Test Acc: 93.340% \n",
      "Epoch: 09 | Time: 1m 53s\n",
      "\tTrain Loss: 0.224 | Test Loss: 0.217 | Test Acc: 93.620% \n",
      "Epoch: 10 | Time: 2m 6s\n",
      "\tTrain Loss: 0.212 | Test Loss: 0.203 | Test Acc: 93.950% \n",
      "optimizer: Adagrad\n",
      "Epoch: 01 | Time: 0m 12s\n",
      "\tTrain Loss: 2.250 | Test Loss: 2.208 | Test Acc: 43.300% \n",
      "Epoch: 02 | Time: 0m 25s\n",
      "\tTrain Loss: 2.176 | Test Loss: 2.137 | Test Acc: 51.710% \n",
      "Epoch: 03 | Time: 0m 38s\n",
      "\tTrain Loss: 2.108 | Test Loss: 2.069 | Test Acc: 55.400% \n",
      "Epoch: 04 | Time: 0m 51s\n",
      "\tTrain Loss: 2.043 | Test Loss: 2.004 | Test Acc: 58.810% \n",
      "Epoch: 05 | Time: 1m 3s\n",
      "\tTrain Loss: 1.980 | Test Loss: 1.942 | Test Acc: 62.010% \n",
      "Epoch: 06 | Time: 1m 16s\n",
      "\tTrain Loss: 1.921 | Test Loss: 1.883 | Test Acc: 64.310% \n",
      "Epoch: 07 | Time: 1m 29s\n",
      "\tTrain Loss: 1.865 | Test Loss: 1.827 | Test Acc: 66.140% \n",
      "Epoch: 08 | Time: 1m 42s\n",
      "\tTrain Loss: 1.812 | Test Loss: 1.774 | Test Acc: 68.110% \n",
      "Epoch: 09 | Time: 1m 55s\n",
      "\tTrain Loss: 1.762 | Test Loss: 1.724 | Test Acc: 69.730% \n",
      "Epoch: 10 | Time: 2m 7s\n",
      "\tTrain Loss: 1.714 | Test Loss: 1.677 | Test Acc: 71.190% \n",
      "optimizer: RMSProp\n",
      "Epoch: 01 | Time: 0m 12s\n",
      "\tTrain Loss: 1.114 | Test Loss: 0.584 | Test Acc: 86.670% \n",
      "Epoch: 02 | Time: 0m 24s\n",
      "\tTrain Loss: 0.486 | Test Loss: 0.401 | Test Acc: 89.600% \n",
      "Epoch: 03 | Time: 0m 37s\n",
      "\tTrain Loss: 0.376 | Test Loss: 0.337 | Test Acc: 90.820% \n",
      "Epoch: 04 | Time: 0m 50s\n",
      "\tTrain Loss: 0.329 | Test Loss: 0.304 | Test Acc: 91.440% \n",
      "Epoch: 05 | Time: 1m 2s\n",
      "\tTrain Loss: 0.301 | Test Loss: 0.283 | Test Acc: 91.740% \n",
      "Epoch: 06 | Time: 1m 15s\n",
      "\tTrain Loss: 0.281 | Test Loss: 0.268 | Test Acc: 92.340% \n",
      "Epoch: 07 | Time: 1m 27s\n",
      "\tTrain Loss: 0.265 | Test Loss: 0.254 | Test Acc: 92.770% \n",
      "Epoch: 08 | Time: 1m 40s\n",
      "\tTrain Loss: 0.251 | Test Loss: 0.241 | Test Acc: 93.130% \n",
      "Epoch: 09 | Time: 1m 52s\n",
      "\tTrain Loss: 0.239 | Test Loss: 0.231 | Test Acc: 93.520% \n",
      "Epoch: 10 | Time: 2m 5s\n",
      "\tTrain Loss: 0.228 | Test Loss: 0.222 | Test Acc: 93.690% \n",
      "optimizer: Adam\n",
      "Epoch: 01 | Time: 0m 12s\n",
      "\tTrain Loss: 1.860 | Test Loss: 1.134 | Test Acc: 78.510% \n",
      "Epoch: 02 | Time: 0m 25s\n",
      "\tTrain Loss: 0.758 | Test Loss: 0.516 | Test Acc: 87.150% \n",
      "Epoch: 03 | Time: 0m 37s\n",
      "\tTrain Loss: 0.451 | Test Loss: 0.380 | Test Acc: 89.820% \n",
      "Epoch: 04 | Time: 0m 50s\n",
      "\tTrain Loss: 0.362 | Test Loss: 0.326 | Test Acc: 91.150% \n",
      "Epoch: 05 | Time: 1m 3s\n",
      "\tTrain Loss: 0.322 | Test Loss: 0.300 | Test Acc: 91.540% \n",
      "Epoch: 06 | Time: 1m 15s\n",
      "\tTrain Loss: 0.298 | Test Loss: 0.281 | Test Acc: 91.960% \n",
      "Epoch: 07 | Time: 1m 28s\n",
      "\tTrain Loss: 0.281 | Test Loss: 0.267 | Test Acc: 92.430% \n",
      "Epoch: 08 | Time: 1m 41s\n",
      "\tTrain Loss: 0.266 | Test Loss: 0.256 | Test Acc: 92.630% \n",
      "Epoch: 09 | Time: 1m 53s\n",
      "\tTrain Loss: 0.254 | Test Loss: 0.245 | Test Acc: 92.790% \n",
      "Epoch: 10 | Time: 2m 6s\n",
      "\tTrain Loss: 0.244 | Test Loss: 0.236 | Test Acc: 93.260% \n"
     ]
    }
   ],
   "source": [
    "best_val_loss = float('inf')\n",
    "keys = ['SGD', 'Adagrad', 'RMSProp', 'Adam']\n",
    "result_dict = {\n",
    "    'SGD': {'trn_loss': [], 'val_loss': [], 'val_acc': []},\n",
    "    'Adagrad': {'trn_loss': [], 'val_loss': [], 'val_acc': []},\n",
    "    'RMSProp': {'trn_loss': [], 'val_loss': [], 'val_acc': []},\n",
    "    'Adam': {'trn_loss': [], 'val_loss': [], 'val_acc': []},\n",
    "}\n",
    "\n",
    "for key in keys:\n",
    "    print(f'optimizer: {key}')\n",
    "    start_time = time.time()\n",
    "    for epoch in range(N_EPOCHS):\n",
    "        trn_loss = train(model=param_dict[key]['model'], \n",
    "                         data_loader=trn_loader, \n",
    "                         optimizer=param_dict[key]['optimizer'], \n",
    "                         criterion=loss_func,\n",
    "                         device=device)\n",
    "\n",
    "        val_loss, accuracy = evaluate(model=param_dict[key]['model'], \n",
    "                                      data_loader=tst_loader, \n",
    "                                      optimizer=param_dict[key]['optimizer'], \n",
    "                                      criterion=loss_func,\n",
    "                                      device=device)\n",
    "\n",
    "        end_time = time.time()\n",
    "\n",
    "        epoch_mins, epoch_secs = epoch_time(start_time, end_time)\n",
    "\n",
    "    #     if val_loss < best_val_loss:\n",
    "    #         best_val_loss = val_loss\n",
    "    #         torch.save(model.state_dict(), f'{save_dir}/my_model.pt')\n",
    "\n",
    "        print(f'Epoch: {epoch+1:02} | Time: {epoch_mins}m {epoch_secs}s')\n",
    "        print(f'\\tTrain Loss: {trn_loss:.3f} | Test Loss: {val_loss:.3f} | Test Acc: {100*accuracy:.3f}% ')\n",
    "\n",
    "        result_dict[key]['trn_loss'] = trn_loss\n",
    "        result_dict[key]['val_loss'] = val_loss\n",
    "        result_dict[key]['val_acc'] = accuracy"
   ]
  },
  {
   "cell_type": "code",
   "execution_count": null,
   "id": "d9238e00",
   "metadata": {},
   "outputs": [],
   "source": [
    "plt.plot(result_dict['SGD']['trn_loss'])\n",
    "plt.plot(result_dict['AdaGrad']['trn_loss'], c='k')\n",
    "plt.plot(result_dict['RMSProp']['trn_loss'], c='b')\n",
    "plt.plot(result_dict['Adam']['trn_loss'], c='r')\n",
    "plt.legend(['SGD', 'AdaGrad', 'RMSProp', 'Adam'])"
   ]
  },
  {
   "cell_type": "code",
   "execution_count": null,
   "id": "897f4fa3",
   "metadata": {},
   "outputs": [],
   "source": []
  },
  {
   "cell_type": "code",
   "execution_count": null,
   "id": "d44f4ef4",
   "metadata": {},
   "outputs": [],
   "source": []
  },
  {
   "cell_type": "code",
   "execution_count": null,
   "id": "7b849596",
   "metadata": {},
   "outputs": [],
   "source": []
  },
  {
   "cell_type": "code",
   "execution_count": null,
   "id": "543b02c5",
   "metadata": {},
   "outputs": [],
   "source": []
  },
  {
   "cell_type": "markdown",
   "id": "c9c7e3ff",
   "metadata": {},
   "source": [
    "## train_dataset, test_dataset을 생성합니다."
   ]
  },
  {
   "cell_type": "code",
   "execution_count": 3,
   "id": "dfe324de",
   "metadata": {},
   "outputs": [],
   "source": [
    "data_path = 'data'\n",
    "if not os.path.exists(data_path):\n",
    "    os.makedirs(data_path)\n",
    "    \n",
    "transform = transforms.Compose([transforms.ToTensor()]) # 이미지를 텐서로 변경하고\n",
    "\n",
    "trn_dset = datasets.MNIST(root=data_path, train=True, transform=transform, download=True)\n",
    "tst_dset = datasets.MNIST(root=data_path, train=False, transform=transform, download=False)"
   ]
  },
  {
   "cell_type": "markdown",
   "id": "c90f432c",
   "metadata": {},
   "source": [
    "## 위에서 생성된 dataset으로 dataloader를 만듭니다."
   ]
  },
  {
   "cell_type": "code",
   "execution_count": 4,
   "id": "25dfe965",
   "metadata": {},
   "outputs": [],
   "source": [
    "batch_size = 2**9\n",
    "trn_loader = DataLoader(trn_dset, batch_size = batch_size, shuffle=True, drop_last=False)\n",
    "tst_loader = DataLoader(tst_dset, batch_size = batch_size, shuffle=False, drop_last=False)"
   ]
  },
  {
   "cell_type": "markdown",
   "id": "5c23395b",
   "metadata": {},
   "source": [
    "## 모델을 생성하고 이 모델을 gpu에서 사용할지 cpu에서 사용할지 결정합니다."
   ]
  },
  {
   "cell_type": "code",
   "execution_count": 5,
   "id": "08928662",
   "metadata": {},
   "outputs": [
    {
     "name": "stdout",
     "output_type": "stream",
     "text": [
      "cpu\n"
     ]
    }
   ],
   "source": [
    "if torch.cuda.is_available():\n",
    "    device=torch.device('cuda:0')\n",
    "else:\n",
    "    device = torch.device('cpu')\n",
    "print(device)\n",
    "\n",
    "model = MyNet()\n",
    "model = model.to(device)"
   ]
  },
  {
   "cell_type": "markdown",
   "id": "6d7df4a7",
   "metadata": {},
   "source": [
    "## optimizer를 설정합니다."
   ]
  },
  {
   "cell_type": "code",
   "execution_count": 6,
   "id": "ad9b7867",
   "metadata": {},
   "outputs": [],
   "source": [
    "my_opt = optim.Adam(params = model.parameters(), lr = 2e-4)"
   ]
  },
  {
   "cell_type": "markdown",
   "id": "fdab2227",
   "metadata": {},
   "source": [
    "## 학습해 볼까요?"
   ]
  },
  {
   "cell_type": "code",
   "execution_count": 7,
   "id": "b3f5d85e",
   "metadata": {},
   "outputs": [
    {
     "name": "stdout",
     "output_type": "stream",
     "text": [
      "Train Epoch: 0 [25344/60000 (42%)]\tLoss: 0.555192\n",
      "Train Epoch: 0 [50944/60000 (85%)]\tLoss: 0.348267\n",
      "Train Epoch: 0 [60000/60000 (100%)]\tLoss: 0.276718\n",
      "\n",
      "Test set: Average loss: 0.3348, Accuracy: 9078/10000 (91%)\n",
      "\n",
      "Train Epoch: 1 [25344/60000 (42%)]\tLoss: 0.331737\n",
      "Train Epoch: 1 [50944/60000 (85%)]\tLoss: 0.331150\n",
      "Train Epoch: 1 [60000/60000 (100%)]\tLoss: 0.238821\n",
      "\n",
      "Test set: Average loss: 0.2526, Accuracy: 9282/10000 (93%)\n",
      "\n",
      "Train Epoch: 2 [25344/60000 (42%)]\tLoss: 0.230109\n",
      "Train Epoch: 2 [50944/60000 (85%)]\tLoss: 0.177349\n",
      "Train Epoch: 2 [60000/60000 (100%)]\tLoss: 0.178517\n",
      "\n",
      "Test set: Average loss: 0.2084, Accuracy: 9391/10000 (94%)\n",
      "\n",
      "Train Epoch: 3 [25344/60000 (42%)]\tLoss: 0.203229\n",
      "Train Epoch: 3 [50944/60000 (85%)]\tLoss: 0.189899\n",
      "Train Epoch: 3 [60000/60000 (100%)]\tLoss: 0.151668\n",
      "\n",
      "Test set: Average loss: 0.1819, Accuracy: 9459/10000 (95%)\n",
      "\n",
      "Train Epoch: 4 [25344/60000 (42%)]\tLoss: 0.149744\n",
      "Train Epoch: 4 [50944/60000 (85%)]\tLoss: 0.152287\n",
      "Train Epoch: 4 [60000/60000 (100%)]\tLoss: 0.255993\n",
      "\n",
      "Test set: Average loss: 0.1618, Accuracy: 9529/10000 (95%)\n",
      "\n",
      "Train Epoch: 5 [25344/60000 (42%)]\tLoss: 0.150304\n",
      "Train Epoch: 5 [50944/60000 (85%)]\tLoss: 0.175635\n",
      "Train Epoch: 5 [60000/60000 (100%)]\tLoss: 0.259915\n",
      "\n",
      "Test set: Average loss: 0.1495, Accuracy: 9550/10000 (96%)\n",
      "\n",
      "Train Epoch: 6 [25344/60000 (42%)]\tLoss: 0.133709\n",
      "Train Epoch: 6 [50944/60000 (85%)]\tLoss: 0.169895\n",
      "Train Epoch: 6 [60000/60000 (100%)]\tLoss: 0.071375\n",
      "\n",
      "Test set: Average loss: 0.1297, Accuracy: 9596/10000 (96%)\n",
      "\n",
      "Train Epoch: 7 [25344/60000 (42%)]\tLoss: 0.209909\n",
      "Train Epoch: 7 [50944/60000 (85%)]\tLoss: 0.088625\n",
      "Train Epoch: 7 [60000/60000 (100%)]\tLoss: 0.077380\n",
      "\n",
      "Test set: Average loss: 0.1219, Accuracy: 9627/10000 (96%)\n",
      "\n",
      "Train Epoch: 8 [25344/60000 (42%)]\tLoss: 0.099818\n",
      "Train Epoch: 8 [50944/60000 (85%)]\tLoss: 0.163577\n",
      "Train Epoch: 8 [60000/60000 (100%)]\tLoss: 0.103234\n",
      "\n",
      "Test set: Average loss: 0.1150, Accuracy: 9645/10000 (96%)\n",
      "\n",
      "Train Epoch: 9 [25344/60000 (42%)]\tLoss: 0.127007\n",
      "Train Epoch: 9 [50944/60000 (85%)]\tLoss: 0.086896\n",
      "Train Epoch: 9 [60000/60000 (100%)]\tLoss: 0.061137\n",
      "\n",
      "Test set: Average loss: 0.1075, Accuracy: 9669/10000 (97%)\n",
      "\n"
     ]
    }
   ],
   "source": [
    "n_epochs = 10\n",
    "for epoch in range(n_epochs):\n",
    "    model.train()\n",
    "    for batch_idx, (x_batch, y_batch) in enumerate(trn_loader):\n",
    "        x_batch = x_batch.reshape(-1,784).to(device)\n",
    "        y_batch = y_batch.to(device)\n",
    "        my_opt.zero_grad()\n",
    "        y_batch_prob = model(x_batch)\n",
    "        loss = F.nll_loss(y_batch_prob, y_batch)\n",
    "        loss.backward()\n",
    "        my_opt.step()\n",
    "        if (batch_idx+1)%100 == 0:\n",
    "            print('Train Epoch: {} [{}/{} ({:.0f}%)]\\tLoss: {:.6f}'.format(epoch, \n",
    "                                                                           batch_idx * len(x_batch), \n",
    "                                                                           len(trn_loader.dataset),\n",
    "                                                                           100 * batch_idx / len(trn_loader),\n",
    "                                                                           loss.item()))\n",
    "    # 매 epoch이 끝날때 결과 찍기\n",
    "    print('Train Epoch: {} [{}/{} (100%)]\\tLoss: {:.6f}'.format(epoch, \n",
    "                                                                   len(trn_loader.dataset), \n",
    "                                                                   len(trn_loader.dataset),\n",
    "                                                                loss.item()))\n",
    "    model.eval()\n",
    "    y_pred_list = []\n",
    "    y_real_list = []\n",
    "    tst_loss = 0\n",
    "    with torch.no_grad():\n",
    "        for batch_idx, (x_batch, y_batch) in enumerate(tst_loader):\n",
    "            x_batch = x_batch.reshape(-1,784).to(device)\n",
    "            y_batch = y_batch.to(device)\n",
    "            y_batch_prob = model(x_batch)\n",
    "            y_batch_pred = np.argmax(y_batch_prob, axis=1)\n",
    "#             print(y_batch_pred)\n",
    "#             print(y_batch)\n",
    "#             y_batch_pred = y_batch_prob.argmax(dim=1, keepdim=True)\n",
    "            loss = F.nll_loss(y_batch_prob, y_batch, reduction='sum')\n",
    "            tst_loss += loss\n",
    "            \n",
    "            y_pred_list.append(y_batch_pred.detach().numpy())\n",
    "            y_real_list.append(y_batch.detach().numpy())\n",
    "            \n",
    "        y_real = np.concatenate([x for x in y_real_list], axis=0)\n",
    "        y_pred = np.concatenate([x for x in y_pred_list], axis=0)\n",
    "        tst_loss /= y_real.shape[0]\n",
    "        correct  = np.sum(y_real == y_pred)\n",
    "        accuracy = 100*correct / len(tst_loader.dataset)\n",
    "        \n",
    "        print('\\nTest set: Average loss: {:.4f}, Accuracy: {}/{} ({:.0f}%)\\n'.format(tst_loss, \n",
    "                                                                                     correct, \n",
    "                                                                                     len(tst_loader.dataset),\n",
    "                                                                                     accuracy))"
   ]
  },
  {
   "cell_type": "markdown",
   "id": "c115e164",
   "metadata": {},
   "source": [
    "# 여러 optimizer에 대해 비교해볼까요?"
   ]
  },
  {
   "cell_type": "code",
   "execution_count": 6,
   "id": "c4a78e3c",
   "metadata": {},
   "outputs": [],
   "source": [
    "batch_size = 2**8\n",
    "trn_loader = DataLoader(trn_dset, batch_size = batch_size, shuffle=True, drop_last=False)\n",
    "tst_loader = DataLoader(tst_dset, batch_size = batch_size, shuffle=False, drop_last=False)"
   ]
  },
  {
   "cell_type": "code",
   "execution_count": 7,
   "id": "3dc16b0a",
   "metadata": {},
   "outputs": [],
   "source": [
    "opt_list = ['SGD', 'AdaGrad', 'RMSProp', 'Adam']\n",
    "model_dict    = dict()\n",
    "trn_loss_dict = dict()\n",
    "tst_loss_dict = dict()\n",
    "opt_dict      = dict()\n",
    "accuracy_dict = dict()\n",
    "\n",
    "for opt in opt_list:\n",
    "    model_dict[opt]    = MyNet().to(device)\n",
    "    trn_loss_dict[opt] = list()\n",
    "    tst_loss_dict[opt] = list()\n",
    "    accuracy_dict[opt] = list()\n",
    "\n",
    "opt_dict['SGD'] = optim.SGD(model_dict['SGD'].parameters(), lr=2e-4)\n",
    "opt_dict['AdaGrad'] = optim.Adagrad(model_dict['AdaGrad'].parameters(), lr=2e-4)\n",
    "opt_dict['RMSProp'] = optim.RMSprop(model_dict['RMSProp'].parameters(), lr=2e-4)\n",
    "opt_dict['Adam'] = optim.Adam(model_dict['Adam'].parameters(), lr=2e-4)"
   ]
  },
  {
   "cell_type": "code",
   "execution_count": 8,
   "id": "2cec3713",
   "metadata": {
    "scrolled": true
   },
   "outputs": [
    {
     "name": "stdout",
     "output_type": "stream",
     "text": [
      "Optimizer: SGD, Epoch: 0 \t Trn Loss: 2.301416\n",
      "Optimizer: SGD, Epoch: 0 \t Tst Loss: 2.296272, Accuracy: 10.19%\n",
      "Optimizer: SGD, Epoch: 1 \t Trn Loss: 2.291434\n",
      "Optimizer: SGD, Epoch: 1 \t Tst Loss: 2.286153, Accuracy: 11.41%\n",
      "Optimizer: SGD, Epoch: 2 \t Trn Loss: 2.281522\n",
      "Optimizer: SGD, Epoch: 2 \t Tst Loss: 2.276024, Accuracy: 12.91%\n",
      "Optimizer: SGD, Epoch: 3 \t Trn Loss: 2.271519\n",
      "Optimizer: SGD, Epoch: 3 \t Tst Loss: 2.265704, Accuracy: 15.18%\n",
      "Optimizer: SGD, Epoch: 4 \t Trn Loss: 2.261251\n",
      "Optimizer: SGD, Epoch: 4 \t Tst Loss: 2.255026, Accuracy: 18.40%\n",
      "Optimizer: SGD, Epoch: 5 \t Trn Loss: 2.250580\n",
      "Optimizer: SGD, Epoch: 5 \t Tst Loss: 2.243857, Accuracy: 23.26%\n",
      "Optimizer: SGD, Epoch: 6 \t Trn Loss: 2.239374\n",
      "Optimizer: SGD, Epoch: 6 \t Tst Loss: 2.232087, Accuracy: 29.30%\n",
      "Optimizer: SGD, Epoch: 7 \t Trn Loss: 2.227515\n",
      "Optimizer: SGD, Epoch: 7 \t Tst Loss: 2.219596, Accuracy: 34.76%\n",
      "Optimizer: SGD, Epoch: 8 \t Trn Loss: 2.214903\n",
      "Optimizer: SGD, Epoch: 8 \t Tst Loss: 2.206294, Accuracy: 39.96%\n",
      "Optimizer: SGD, Epoch: 9 \t Trn Loss: 2.201445\n",
      "Optimizer: SGD, Epoch: 9 \t Tst Loss: 2.192101, Accuracy: 45.00%\n",
      "Optimizer: AdaGrad, Epoch: 0 \t Trn Loss: 1.936080\n",
      "Optimizer: AdaGrad, Epoch: 0 \t Tst Loss: 1.634627, Accuracy: 71.95%\n",
      "Optimizer: AdaGrad, Epoch: 1 \t Trn Loss: 1.452906\n",
      "Optimizer: AdaGrad, Epoch: 1 \t Tst Loss: 1.270134, Accuracy: 78.23%\n",
      "Optimizer: AdaGrad, Epoch: 2 \t Trn Loss: 1.176444\n",
      "Optimizer: AdaGrad, Epoch: 2 \t Tst Loss: 1.058127, Accuracy: 81.10%\n",
      "Optimizer: AdaGrad, Epoch: 3 \t Trn Loss: 1.006979\n",
      "Optimizer: AdaGrad, Epoch: 3 \t Tst Loss: 0.921213, Accuracy: 82.74%\n",
      "Optimizer: AdaGrad, Epoch: 4 \t Trn Loss: 0.892745\n",
      "Optimizer: AdaGrad, Epoch: 4 \t Tst Loss: 0.825818, Accuracy: 83.84%\n",
      "Optimizer: AdaGrad, Epoch: 5 \t Trn Loss: 0.810232\n",
      "Optimizer: AdaGrad, Epoch: 5 \t Tst Loss: 0.754620, Accuracy: 84.74%\n",
      "Optimizer: AdaGrad, Epoch: 6 \t Trn Loss: 0.747258\n",
      "Optimizer: AdaGrad, Epoch: 6 \t Tst Loss: 0.699484, Accuracy: 85.66%\n",
      "Optimizer: AdaGrad, Epoch: 7 \t Trn Loss: 0.697746\n",
      "Optimizer: AdaGrad, Epoch: 7 \t Tst Loss: 0.655524, Accuracy: 86.21%\n",
      "Optimizer: AdaGrad, Epoch: 8 \t Trn Loss: 0.657819\n",
      "Optimizer: AdaGrad, Epoch: 8 \t Tst Loss: 0.619930, Accuracy: 86.71%\n",
      "Optimizer: AdaGrad, Epoch: 9 \t Trn Loss: 0.624659\n",
      "Optimizer: AdaGrad, Epoch: 9 \t Tst Loss: 0.589957, Accuracy: 87.16%\n",
      "Optimizer: RMSProp, Epoch: 0 \t Trn Loss: 0.481355\n",
      "Optimizer: RMSProp, Epoch: 0 \t Tst Loss: 0.294755, Accuracy: 91.32%\n",
      "Optimizer: RMSProp, Epoch: 1 \t Trn Loss: 0.273964\n",
      "Optimizer: RMSProp, Epoch: 1 \t Tst Loss: 0.258590, Accuracy: 92.19%\n",
      "Optimizer: RMSProp, Epoch: 2 \t Trn Loss: 0.229692\n",
      "Optimizer: RMSProp, Epoch: 2 \t Tst Loss: 0.219755, Accuracy: 93.17%\n",
      "Optimizer: RMSProp, Epoch: 3 \t Trn Loss: 0.196579\n",
      "Optimizer: RMSProp, Epoch: 3 \t Tst Loss: 0.184238, Accuracy: 94.36%\n",
      "Optimizer: RMSProp, Epoch: 4 \t Trn Loss: 0.170471\n",
      "Optimizer: RMSProp, Epoch: 4 \t Tst Loss: 0.166148, Accuracy: 94.81%\n",
      "Optimizer: RMSProp, Epoch: 5 \t Trn Loss: 0.149735\n",
      "Optimizer: RMSProp, Epoch: 5 \t Tst Loss: 0.142601, Accuracy: 95.66%\n",
      "Optimizer: RMSProp, Epoch: 6 \t Trn Loss: 0.132902\n",
      "Optimizer: RMSProp, Epoch: 6 \t Tst Loss: 0.131811, Accuracy: 96.03%\n",
      "Optimizer: RMSProp, Epoch: 7 \t Trn Loss: 0.118528\n",
      "Optimizer: RMSProp, Epoch: 7 \t Tst Loss: 0.123815, Accuracy: 96.11%\n",
      "Optimizer: RMSProp, Epoch: 8 \t Trn Loss: 0.106663\n",
      "Optimizer: RMSProp, Epoch: 8 \t Tst Loss: 0.123261, Accuracy: 96.13%\n",
      "Optimizer: RMSProp, Epoch: 9 \t Trn Loss: 0.096454\n",
      "Optimizer: RMSProp, Epoch: 9 \t Tst Loss: 0.105849, Accuracy: 96.64%\n",
      "Optimizer: Adam, Epoch: 0 \t Trn Loss: 0.812518\n",
      "Optimizer: Adam, Epoch: 0 \t Tst Loss: 0.330525, Accuracy: 90.65%\n",
      "Optimizer: Adam, Epoch: 1 \t Trn Loss: 0.293496\n",
      "Optimizer: Adam, Epoch: 1 \t Tst Loss: 0.250644, Accuracy: 92.52%\n",
      "Optimizer: Adam, Epoch: 2 \t Trn Loss: 0.238136\n",
      "Optimizer: Adam, Epoch: 2 \t Tst Loss: 0.217518, Accuracy: 93.66%\n",
      "Optimizer: Adam, Epoch: 3 \t Trn Loss: 0.203627\n",
      "Optimizer: Adam, Epoch: 3 \t Tst Loss: 0.193122, Accuracy: 94.08%\n",
      "Optimizer: Adam, Epoch: 4 \t Trn Loss: 0.178997\n",
      "Optimizer: Adam, Epoch: 4 \t Tst Loss: 0.170263, Accuracy: 95.09%\n",
      "Optimizer: Adam, Epoch: 5 \t Trn Loss: 0.159963\n",
      "Optimizer: Adam, Epoch: 5 \t Tst Loss: 0.155647, Accuracy: 95.33%\n",
      "Optimizer: Adam, Epoch: 6 \t Trn Loss: 0.145026\n",
      "Optimizer: Adam, Epoch: 6 \t Tst Loss: 0.145003, Accuracy: 95.61%\n",
      "Optimizer: Adam, Epoch: 7 \t Trn Loss: 0.132065\n",
      "Optimizer: Adam, Epoch: 7 \t Tst Loss: 0.135301, Accuracy: 95.89%\n",
      "Optimizer: Adam, Epoch: 8 \t Trn Loss: 0.120217\n",
      "Optimizer: Adam, Epoch: 8 \t Tst Loss: 0.126283, Accuracy: 96.03%\n",
      "Optimizer: Adam, Epoch: 9 \t Trn Loss: 0.110490\n",
      "Optimizer: Adam, Epoch: 9 \t Tst Loss: 0.118887, Accuracy: 96.40%\n"
     ]
    }
   ],
   "source": [
    "n_epochs = 10\n",
    "\n",
    "for opt_name, optimizer in opt_dict.items():\n",
    "    for epoch in range(n_epochs):\n",
    "        model_dict[opt_name].train()\n",
    "        total_trn_loss = 0\n",
    "        for batch_idx, (x_batch, y_batch) in enumerate(trn_loader):\n",
    "            x_batch = x_batch.reshape(-1,784).to(device)\n",
    "            y_batch = y_batch.to(device)\n",
    "            opt_dict[opt_name].zero_grad()\n",
    "            y_batch_prob = model_dict[opt_name](x_batch)\n",
    "            trn_loss = F.nll_loss(y_batch_prob, y_batch)\n",
    "            trn_loss.backward()\n",
    "            total_trn_loss += trn_loss.item() * y_batch.shape[0]\n",
    "            opt_dict[opt_name].step()\n",
    "        trn_loss_dict[opt_name].append(total_trn_loss/len(trn_loader.dataset))\n",
    "        \n",
    "        \n",
    "        \n",
    "        model_dict[opt_name].eval()\n",
    "        total_tst_loss=0\n",
    "        correct = 0\n",
    "        with torch.no_grad():\n",
    "            for batch_idx, (x_batch, y_batch) in enumerate(tst_loader):\n",
    "                x_batch = x_batch.reshape(-1,784).to(device)\n",
    "                y_batch = y_batch.to(device)\n",
    "                y_batch_prob = model_dict[opt_name](x_batch)\n",
    "                y_batch_pred = torch.argmax(y_batch_prob, axis=1)\n",
    "                tst_loss = F.nll_loss(y_batch_prob, y_batch)\n",
    "                total_tst_loss += tst_loss.item() * y_batch.shape[0]\n",
    "                correct += np.sum(y_batch.detach().numpy() == y_batch_pred.detach().numpy())\n",
    "        tst_loss_dict[opt_name].append(total_tst_loss / len(tst_loader.dataset))\n",
    "        accuracy_dict[opt_name].append(correct / len(tst_loader.dataset))\n",
    "        \n",
    "        # 매 epoch이 끝날때 결과 찍기\n",
    "        print('Optimizer: {}, Epoch: {} \\t Trn Loss: {:.6f}'.format(opt_name, epoch, \n",
    "                                                                    total_trn_loss/len(trn_loader.dataset)))\n",
    "        \n",
    "        print('Optimizer: {}, Epoch: {} \\t Tst Loss: {:.6f}, Accuracy: {:.2f}%'.format(opt_name, epoch, \n",
    "                                                                                       total_tst_loss/len(tst_loader.dataset), \n",
    "                                                                                       100*correct/len(tst_loader.dataset)))\n",
    "    "
   ]
  },
  {
   "cell_type": "code",
   "execution_count": 9,
   "id": "de742b19",
   "metadata": {},
   "outputs": [
    {
     "data": {
      "text/plain": [
       "<matplotlib.legend.Legend at 0x7fac3e86ae80>"
      ]
     },
     "execution_count": 9,
     "metadata": {},
     "output_type": "execute_result"
    },
    {
     "data": {
      "image/png": "[encoded data removed]",
      "text/plain": [
       "<Figure size 432x288 with 1 Axes>"
      ]
     },
     "metadata": {
      "needs_background": "light"
     },
     "output_type": "display_data"
    }
   ],
   "source": [
    "plt.plot(trn_loss_dict['SGD'])\n",
    "plt.plot(trn_loss_dict['AdaGrad'], c='k')\n",
    "plt.plot(trn_loss_dict['RMSProp'], c='b')\n",
    "plt.plot(trn_loss_dict['Adam'], c='r')\n",
    "plt.legend(['SGD', 'AdaGrad', 'RMSProp', 'Adam'])"
   ]
  },
  {
   "cell_type": "code",
   "execution_count": 10,
   "id": "c5855723",
   "metadata": {},
   "outputs": [
    {
     "data": {
      "text/plain": [
       "<matplotlib.legend.Legend at 0x7fac3e6acfa0>"
      ]
     },
     "execution_count": 10,
     "metadata": {},
     "output_type": "execute_result"
    },
    {
     "data": {
      "image/png": "[encoded data removed]",
      "text/plain": [
       "<Figure size 432x288 with 1 Axes>"
      ]
     },
     "metadata": {
      "needs_background": "light"
     },
     "output_type": "display_data"
    }
   ],
   "source": [
    "plt.plot(tst_loss_dict['SGD'])\n",
    "plt.plot(tst_loss_dict['AdaGrad'], c='k')\n",
    "plt.plot(tst_loss_dict['RMSProp'], c='b')\n",
    "plt.plot(tst_loss_dict['Adam'], c='r')\n",
    "plt.legend(['SGD', 'AdaGrad', 'RMSProp', 'Adam'])"
   ]
  },
  {
   "cell_type": "code",
   "execution_count": 11,
   "id": "6b853ea5",
   "metadata": {},
   "outputs": [
    {
     "data": {
      "text/plain": [
       "<matplotlib.legend.Legend at 0x7fac3e703220>"
      ]
     },
     "execution_count": 11,
     "metadata": {},
     "output_type": "execute_result"
    },
    {
     "data": {
      "image/png": "[encoded data removed]",
      "text/plain": [
       "<Figure size 432x288 with 1 Axes>"
      ]
     },
     "metadata": {
      "needs_background": "light"
     },
     "output_type": "display_data"
    }
   ],
   "source": [
    "plt.plot(accuracy_dict['SGD'])\n",
    "plt.plot(accuracy_dict['AdaGrad'], c='k')\n",
    "plt.plot(accuracy_dict['RMSProp'], c='b')\n",
    "plt.plot(accuracy_dict['Adam'], c='r')\n",
    "plt.legend(['SGD', 'AdaGrad', 'RMSProp', 'Adam'])"
   ]
  },
  {
   "cell_type": "code",
   "execution_count": null,
   "id": "99daa938",
   "metadata": {},
   "outputs": [],
   "source": []
  }
 ],
 "metadata": {
  "kernelspec": {
   "display_name": "Python 3 (ipykernel)",
   "language": "python",
   "name": "python3"
  },
  "language_info": {
   "codemirror_mode": {
    "name": "ipython",
    "version": 3
   },
   "file_extension": ".py",
   "mimetype": "text/x-python",
   "name": "python",
   "nbconvert_exporter": "python",
   "pygments_lexer": "ipython3",
   "version": "3.8.18"
  }
 },
 "nbformat": 4,
 "nbformat_minor": 5
}
