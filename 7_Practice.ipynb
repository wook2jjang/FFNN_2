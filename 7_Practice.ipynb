{
 "cells": [
  {
   "cell_type": "markdown",
   "id": "e3a943e3",
   "metadata": {},
   "source": [
    "# 연습문제"
   ]
  },
  {
   "cell_type": "markdown",
   "id": "ea472385",
   "metadata": {},
   "source": [
    "<span style = 'font-size:1.3em;line-height:1.5em'><b>1. </b>Pytorch에서는 learning rate scheduler라는 기능을 제공합니다. 이는 학습이 진행될 수록 learning rate를 조절하는 기능입니다. 이 중, StepLR을 사용하여 learning rate를 조정해보세요. step_size=10, gamma=0.2, 초기 learning_rates는 0.1, optimizer는 SGD를 사용해보세요. 총 100번의 epoch을 실행하여 training_loss, test_loss, test_accuracy를 매 epoch마다 찍어보세요.</span>\n",
    "\n",
    "참고: https://sanghyu.tistory.com/113"
   ]
  },
  {
   "cell_type": "code",
   "execution_count": null,
   "id": "99daa938",
   "metadata": {},
   "outputs": [],
   "source": []
  },
  {
   "cell_type": "markdown",
   "id": "798b998a",
   "metadata": {},
   "source": [
    "<span style = 'font-size:1.3em;line-height:1.5em'><b>2. </b>Weight와 bias를 전부 0으로 채워서 initialize할 때, 학습이 어떻게 진행되는지 살펴봅시다. 마찬가지로, 1로 채웠을때 어떻게 학습이 되는지 살펴봅시다.</span>"
   ]
  },
  {
   "cell_type": "code",
   "execution_count": null,
   "id": "a2cfad06",
   "metadata": {},
   "outputs": [],
   "source": []
  },
  {
   "cell_type": "markdown",
   "id": "22908b10",
   "metadata": {},
   "source": [
    "<span style = 'font-size:1.3em;line-height:1.5em'><b>3. </b>BatchNorm을 하면 initialization에 크게 신경쓰지 않아도 되고, learning rate를 좀 크게 해도 관계 없다고 합니다. 실제로 그런지 확인해볼까요? Weight Initialization을 평균이 0, 표준편차가 0.2인 정규분포에서 random으로 추출하도록 하고, learning_rate를 0.01로 하고 실험을 해봅시다. BN을 했을때와 하지 않았을 때를 비교해보세요. Epoch에 따라 traning_error, test_error, test_accuracy를 모니터링한 결과를 알려주세요</span>"
   ]
  },
  {
   "cell_type": "code",
   "execution_count": null,
   "id": "b99faec8",
   "metadata": {},
   "outputs": [],
   "source": []
  }
 ],
 "metadata": {
  "kernelspec": {
   "display_name": "Python 3 (ipykernel)",
   "language": "python",
   "name": "python3"
  },
  "language_info": {
   "codemirror_mode": {
    "name": "ipython",
    "version": 3
   },
   "file_extension": ".py",
   "mimetype": "text/x-python",
   "name": "python",
   "nbconvert_exporter": "python",
   "pygments_lexer": "ipython3",
   "version": "3.9.12"
  }
 },
 "nbformat": 4,
 "nbformat_minor": 5
}
